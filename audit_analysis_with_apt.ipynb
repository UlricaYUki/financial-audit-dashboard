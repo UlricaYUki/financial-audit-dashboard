{
 "cells": [
  {
   "cell_type": "markdown",
   "id": "c8bf48d6",
   "metadata": {},
   "source": [
    "# 📊 Financial Audit Data Analysis\n",
    "This notebook explores and analyzes internal financial operations data."
   ]
  },
  {
   "cell_type": "code",
   "execution_count": 1,
   "id": "7df62b65",
   "metadata": {},
   "outputs": [
    {
     "ename": "FileNotFoundError",
     "evalue": "[Errno 2] No such file or directory: '../data/Financial_Audit_Dataset.xlsx'",
     "output_type": "error",
     "traceback": [
      "\u001b[1;31m---------------------------------------------------------------------------\u001b[0m",
      "\u001b[1;31mFileNotFoundError\u001b[0m                         Traceback (most recent call last)",
      "Cell \u001b[1;32mIn[1], line 5\u001b[0m\n\u001b[0;32m      3\u001b[0m \u001b[38;5;66;03m# Load data from Excel\u001b[39;00m\n\u001b[0;32m      4\u001b[0m file_path \u001b[38;5;241m=\u001b[39m \u001b[38;5;124m'\u001b[39m\u001b[38;5;124m../data/Financial_Audit_Dataset.xlsx\u001b[39m\u001b[38;5;124m'\u001b[39m\n\u001b[1;32m----> 5\u001b[0m vendors \u001b[38;5;241m=\u001b[39m pd\u001b[38;5;241m.\u001b[39mread_excel(file_path, sheet_name\u001b[38;5;241m=\u001b[39m\u001b[38;5;124m'\u001b[39m\u001b[38;5;124mVendors\u001b[39m\u001b[38;5;124m'\u001b[39m)\n\u001b[0;32m      6\u001b[0m po \u001b[38;5;241m=\u001b[39m pd\u001b[38;5;241m.\u001b[39mread_excel(file_path, sheet_name\u001b[38;5;241m=\u001b[39m\u001b[38;5;124m'\u001b[39m\u001b[38;5;124mPurchaseOrders\u001b[39m\u001b[38;5;124m'\u001b[39m)\n\u001b[0;32m      7\u001b[0m invoices \u001b[38;5;241m=\u001b[39m pd\u001b[38;5;241m.\u001b[39mread_excel(file_path, sheet_name\u001b[38;5;241m=\u001b[39m\u001b[38;5;124m'\u001b[39m\u001b[38;5;124mInvoices\u001b[39m\u001b[38;5;124m'\u001b[39m)\n",
      "File \u001b[1;32m~\\anaconda3\\Lib\\site-packages\\pandas\\io\\excel\\_base.py:495\u001b[0m, in \u001b[0;36mread_excel\u001b[1;34m(io, sheet_name, header, names, index_col, usecols, dtype, engine, converters, true_values, false_values, skiprows, nrows, na_values, keep_default_na, na_filter, verbose, parse_dates, date_parser, date_format, thousands, decimal, comment, skipfooter, storage_options, dtype_backend, engine_kwargs)\u001b[0m\n\u001b[0;32m    493\u001b[0m \u001b[38;5;28;01mif\u001b[39;00m \u001b[38;5;129;01mnot\u001b[39;00m \u001b[38;5;28misinstance\u001b[39m(io, ExcelFile):\n\u001b[0;32m    494\u001b[0m     should_close \u001b[38;5;241m=\u001b[39m \u001b[38;5;28;01mTrue\u001b[39;00m\n\u001b[1;32m--> 495\u001b[0m     io \u001b[38;5;241m=\u001b[39m ExcelFile(\n\u001b[0;32m    496\u001b[0m         io,\n\u001b[0;32m    497\u001b[0m         storage_options\u001b[38;5;241m=\u001b[39mstorage_options,\n\u001b[0;32m    498\u001b[0m         engine\u001b[38;5;241m=\u001b[39mengine,\n\u001b[0;32m    499\u001b[0m         engine_kwargs\u001b[38;5;241m=\u001b[39mengine_kwargs,\n\u001b[0;32m    500\u001b[0m     )\n\u001b[0;32m    501\u001b[0m \u001b[38;5;28;01melif\u001b[39;00m engine \u001b[38;5;129;01mand\u001b[39;00m engine \u001b[38;5;241m!=\u001b[39m io\u001b[38;5;241m.\u001b[39mengine:\n\u001b[0;32m    502\u001b[0m     \u001b[38;5;28;01mraise\u001b[39;00m \u001b[38;5;167;01mValueError\u001b[39;00m(\n\u001b[0;32m    503\u001b[0m         \u001b[38;5;124m\"\u001b[39m\u001b[38;5;124mEngine should not be specified when passing \u001b[39m\u001b[38;5;124m\"\u001b[39m\n\u001b[0;32m    504\u001b[0m         \u001b[38;5;124m\"\u001b[39m\u001b[38;5;124man ExcelFile - ExcelFile already has the engine set\u001b[39m\u001b[38;5;124m\"\u001b[39m\n\u001b[0;32m    505\u001b[0m     )\n",
      "File \u001b[1;32m~\\anaconda3\\Lib\\site-packages\\pandas\\io\\excel\\_base.py:1550\u001b[0m, in \u001b[0;36mExcelFile.__init__\u001b[1;34m(self, path_or_buffer, engine, storage_options, engine_kwargs)\u001b[0m\n\u001b[0;32m   1548\u001b[0m     ext \u001b[38;5;241m=\u001b[39m \u001b[38;5;124m\"\u001b[39m\u001b[38;5;124mxls\u001b[39m\u001b[38;5;124m\"\u001b[39m\n\u001b[0;32m   1549\u001b[0m \u001b[38;5;28;01melse\u001b[39;00m:\n\u001b[1;32m-> 1550\u001b[0m     ext \u001b[38;5;241m=\u001b[39m inspect_excel_format(\n\u001b[0;32m   1551\u001b[0m         content_or_path\u001b[38;5;241m=\u001b[39mpath_or_buffer, storage_options\u001b[38;5;241m=\u001b[39mstorage_options\n\u001b[0;32m   1552\u001b[0m     )\n\u001b[0;32m   1553\u001b[0m     \u001b[38;5;28;01mif\u001b[39;00m ext \u001b[38;5;129;01mis\u001b[39;00m \u001b[38;5;28;01mNone\u001b[39;00m:\n\u001b[0;32m   1554\u001b[0m         \u001b[38;5;28;01mraise\u001b[39;00m \u001b[38;5;167;01mValueError\u001b[39;00m(\n\u001b[0;32m   1555\u001b[0m             \u001b[38;5;124m\"\u001b[39m\u001b[38;5;124mExcel file format cannot be determined, you must specify \u001b[39m\u001b[38;5;124m\"\u001b[39m\n\u001b[0;32m   1556\u001b[0m             \u001b[38;5;124m\"\u001b[39m\u001b[38;5;124man engine manually.\u001b[39m\u001b[38;5;124m\"\u001b[39m\n\u001b[0;32m   1557\u001b[0m         )\n",
      "File \u001b[1;32m~\\anaconda3\\Lib\\site-packages\\pandas\\io\\excel\\_base.py:1402\u001b[0m, in \u001b[0;36minspect_excel_format\u001b[1;34m(content_or_path, storage_options)\u001b[0m\n\u001b[0;32m   1399\u001b[0m \u001b[38;5;28;01mif\u001b[39;00m \u001b[38;5;28misinstance\u001b[39m(content_or_path, \u001b[38;5;28mbytes\u001b[39m):\n\u001b[0;32m   1400\u001b[0m     content_or_path \u001b[38;5;241m=\u001b[39m BytesIO(content_or_path)\n\u001b[1;32m-> 1402\u001b[0m \u001b[38;5;28;01mwith\u001b[39;00m get_handle(\n\u001b[0;32m   1403\u001b[0m     content_or_path, \u001b[38;5;124m\"\u001b[39m\u001b[38;5;124mrb\u001b[39m\u001b[38;5;124m\"\u001b[39m, storage_options\u001b[38;5;241m=\u001b[39mstorage_options, is_text\u001b[38;5;241m=\u001b[39m\u001b[38;5;28;01mFalse\u001b[39;00m\n\u001b[0;32m   1404\u001b[0m ) \u001b[38;5;28;01mas\u001b[39;00m handle:\n\u001b[0;32m   1405\u001b[0m     stream \u001b[38;5;241m=\u001b[39m handle\u001b[38;5;241m.\u001b[39mhandle\n\u001b[0;32m   1406\u001b[0m     stream\u001b[38;5;241m.\u001b[39mseek(\u001b[38;5;241m0\u001b[39m)\n",
      "File \u001b[1;32m~\\anaconda3\\Lib\\site-packages\\pandas\\io\\common.py:882\u001b[0m, in \u001b[0;36mget_handle\u001b[1;34m(path_or_buf, mode, encoding, compression, memory_map, is_text, errors, storage_options)\u001b[0m\n\u001b[0;32m    873\u001b[0m         handle \u001b[38;5;241m=\u001b[39m \u001b[38;5;28mopen\u001b[39m(\n\u001b[0;32m    874\u001b[0m             handle,\n\u001b[0;32m    875\u001b[0m             ioargs\u001b[38;5;241m.\u001b[39mmode,\n\u001b[1;32m   (...)\u001b[0m\n\u001b[0;32m    878\u001b[0m             newline\u001b[38;5;241m=\u001b[39m\u001b[38;5;124m\"\u001b[39m\u001b[38;5;124m\"\u001b[39m,\n\u001b[0;32m    879\u001b[0m         )\n\u001b[0;32m    880\u001b[0m     \u001b[38;5;28;01melse\u001b[39;00m:\n\u001b[0;32m    881\u001b[0m         \u001b[38;5;66;03m# Binary mode\u001b[39;00m\n\u001b[1;32m--> 882\u001b[0m         handle \u001b[38;5;241m=\u001b[39m \u001b[38;5;28mopen\u001b[39m(handle, ioargs\u001b[38;5;241m.\u001b[39mmode)\n\u001b[0;32m    883\u001b[0m     handles\u001b[38;5;241m.\u001b[39mappend(handle)\n\u001b[0;32m    885\u001b[0m \u001b[38;5;66;03m# Convert BytesIO or file objects passed with an encoding\u001b[39;00m\n",
      "\u001b[1;31mFileNotFoundError\u001b[0m: [Errno 2] No such file or directory: '../data/Financial_Audit_Dataset.xlsx'"
     ]
    }
   ],
   "source": [
    "import pandas as pd\n",
    "\n",
    "# Load data from Excel\n",
    "file_path = '../data/Financial_Audit_Dataset.xlsx'\n",
    "vendors = pd.read_excel(file_path, sheet_name='Vendors')\n",
    "po = pd.read_excel(file_path, sheet_name='PurchaseOrders')\n",
    "invoices = pd.read_excel(file_path, sheet_name='Invoices')\n",
    "ledger = pd.read_excel(file_path, sheet_name='LedgerEntries')"
   ]
  },
  {
   "cell_type": "code",
   "execution_count": null,
   "id": "2372b2f8",
   "metadata": {},
   "outputs": [],
   "source": [
    "# Display sample data\n",
    "vendors.head()"
   ]
  },
  {
   "cell_type": "code",
   "execution_count": null,
   "id": "5f06dcf2",
   "metadata": {},
   "outputs": [],
   "source": [
    "po.head()"
   ]
  },
  {
   "cell_type": "code",
   "execution_count": null,
   "id": "807a19ad",
   "metadata": {},
   "outputs": [],
   "source": [
    "invoices.head()"
   ]
  },
  {
   "cell_type": "code",
   "execution_count": null,
   "id": "4a435b5f",
   "metadata": {},
   "outputs": [],
   "source": [
    "ledger.head()"
   ]
  },
  {
   "cell_type": "markdown",
   "id": "48417f7d",
   "metadata": {},
   "source": [
    "## ✅ Next Steps:\n",
    "- Match invoices with POs\n",
    "- Detect unmatched or high-risk transactions\n",
    "- Summarize department-level spending\n",
    "- Visualize key metrics"
   ]
  },
  {
   "cell_type": "markdown",
   "id": "4e606cfa",
   "metadata": {},
   "source": [
    "## 🔍 Match Invoices with Purchase Orders"
   ]
  },
  {
   "cell_type": "code",
   "execution_count": null,
   "id": "825387ec",
   "metadata": {},
   "outputs": [],
   "source": [
    "# Merge invoices with purchase orders on PO_ID and VendorID\n",
    "invoice_po_merged = invoices.merge(po, on=['PO_ID', 'VendorID'], how='left')\n",
    "\n",
    "# Check for unmatched rows (i.e., invoices with no corresponding PO)\n",
    "unmatched_invoices = invoice_po_merged[invoice_po_merged['Department'].isna()]\n",
    "unmatched_invoices[['InvoiceID', 'PO_ID', 'VendorID', 'Amount_x', 'InvoiceDate']]"
   ]
  },
  {
   "cell_type": "markdown",
   "id": "f41bf441",
   "metadata": {},
   "source": [
    "### 💡 Insight: These invoices have no matching purchase orders. They could be flagged for further audit review."
   ]
  },
  {
   "cell_type": "markdown",
   "id": "12c3a310",
   "metadata": {},
   "source": [
    "## 📊 High-Risk Vendor Analysis"
   ]
  },
  {
   "cell_type": "code",
   "execution_count": null,
   "id": "ffdd0e4a",
   "metadata": {},
   "outputs": [],
   "source": [
    "# Merge invoice data with vendor risk levels\n",
    "invoice_vendor_merged = invoices.merge(vendors, on='VendorID', how='left')\n",
    "\n",
    "# Filter for high-risk vendors\n",
    "high_risk_vendors = invoice_vendor_merged[invoice_vendor_merged['RiskLevel'] == 'High']\n",
    "high_risk_summary = high_risk_vendors.groupby('VendorName')['Amount'].sum().reset_index().sort_values(by='Amount', ascending=False)\n",
    "high_risk_summary"
   ]
  },
  {
   "cell_type": "markdown",
   "id": "c9a33a44",
   "metadata": {},
   "source": [
    "### 📌 These are the vendors with the highest invoice totals and a high risk rating."
   ]
  },
  {
   "cell_type": "markdown",
   "id": "6ec4b092",
   "metadata": {},
   "source": [
    "## 🏢 Department Spending Overview"
   ]
  },
  {
   "cell_type": "code",
   "execution_count": null,
   "id": "85e97868",
   "metadata": {},
   "outputs": [],
   "source": [
    "# Group total PO spending by department\n",
    "department_spending = po.groupby('Department')['Amount'].sum().reset_index().sort_values(by='Amount', ascending=False)\n",
    "department_spending"
   ]
  },
  {
   "cell_type": "markdown",
   "id": "f99080c2",
   "metadata": {},
   "source": [
    "## 📈 Visualizations"
   ]
  },
  {
   "cell_type": "code",
   "execution_count": null,
   "id": "b4f2d193",
   "metadata": {},
   "outputs": [],
   "source": [
    "# Import visualization library\n",
    "import matplotlib.pyplot as plt\n",
    "import seaborn as sns\n",
    "\n",
    "sns.set(style='whitegrid')"
   ]
  },
  {
   "cell_type": "markdown",
   "id": "711c5dff",
   "metadata": {},
   "source": [
    "### 🧾 Department Spending Bar Chart"
   ]
  },
  {
   "cell_type": "code",
   "execution_count": null,
   "id": "7f9fd0b0",
   "metadata": {},
   "outputs": [],
   "source": [
    "# Plot department spending\n",
    "plt.figure(figsize=(8,5))\n",
    "sns.barplot(data=department_spending, x='Amount', y='Department', palette='Blues_d')\n",
    "plt.title('Total Spending by Department')\n",
    "plt.xlabel('Total Amount ($)')\n",
    "plt.ylabel('Department')\n",
    "plt.tight_layout()\n",
    "plt.show()"
   ]
  },
  {
   "cell_type": "markdown",
   "id": "30541ac3",
   "metadata": {},
   "source": [
    "## ⏱️ Payment Cycle Analysis"
   ]
  },
  {
   "cell_type": "code",
   "execution_count": null,
   "id": "39d433e8",
   "metadata": {},
   "outputs": [],
   "source": [
    "# Calculate payment cycle (InvoiceDate - PO Date)\n",
    "po['Date'] = pd.to_datetime(po['Date'])\n",
    "invoices['InvoiceDate'] = pd.to_datetime(invoices['InvoiceDate'])\n",
    "payment_merged = invoices.merge(po[['PO_ID', 'Date']], on='PO_ID', how='left')\n",
    "payment_merged['PaymentCycleDays'] = (payment_merged['InvoiceDate'] - payment_merged['Date']).dt.days\n",
    "\n",
    "# Show distribution\n",
    "payment_merged[['InvoiceID', 'PO_ID', 'PaymentCycleDays']].head()"
   ]
  },
  {
   "cell_type": "code",
   "execution_count": null,
   "id": "7d6dfb2c",
   "metadata": {},
   "outputs": [],
   "source": [
    "# Plot distribution of payment cycles\n",
    "plt.figure(figsize=(8,5))\n",
    "sns.histplot(payment_merged['PaymentCycleDays'].dropna(), bins=20, kde=True)\n",
    "plt.title('Distribution of Payment Cycles')\n",
    "plt.xlabel('Days between PO and Invoice')\n",
    "plt.ylabel('Count')\n",
    "plt.tight_layout()\n",
    "plt.show()"
   ]
  },
  {
   "cell_type": "markdown",
   "id": "d67a0686",
   "metadata": {},
   "source": [
    "## 🚨 Anomaly Detection: Outlier Payment Cycles"
   ]
  },
  {
   "cell_type": "code",
   "execution_count": null,
   "id": "a633be85",
   "metadata": {},
   "outputs": [],
   "source": [
    "# Flag payment cycles that are unusually long or short\n",
    "mean_cycle = payment_merged['PaymentCycleDays'].mean()\n",
    "std_cycle = payment_merged['PaymentCycleDays'].std()\n",
    "payment_merged['Anomaly'] = payment_merged['PaymentCycleDays'].apply(\n",
    "    lambda x: 'Outlier' if abs(x - mean_cycle) > 2 * std_cycle else 'Normal')\n",
    "\n",
    "outliers = payment_merged[payment_merged['Anomaly'] == 'Outlier']\n",
    "outliers[['InvoiceID', 'PO_ID', 'PaymentCycleDays']]"
   ]
  },
  {
   "cell_type": "markdown",
   "id": "2516fe9e",
   "metadata": {},
   "source": [
    "## 💰 Accounts Payable Turnover (APT) Analysis\n",
    "\n",
    "We'll calculate the APT ratio using simulated procurement data and compare it against industry averages (e.g., 3.5–4.0 for the pharmaceutical industry)."
   ]
  },
  {
   "cell_type": "code",
   "execution_count": null,
   "id": "75fc02f7",
   "metadata": {},
   "outputs": [],
   "source": [
    "# Prepare monthly PO (purchases) and unpaid invoices (payables)\n",
    "po['Date'] = pd.to_datetime(po['Date'])\n",
    "invoices['InvoiceDate'] = pd.to_datetime(invoices['InvoiceDate'])\n",
    "\n",
    "# Tag unpaid invoices\n",
    "invoices['Unpaid'] = invoices['Status'] != 'Paid'\n",
    "\n",
    "# Monthly total purchases\n",
    "monthly_purchases = po.copy()\n",
    "monthly_purchases['Month'] = monthly_purchases['Date'].dt.to_period('M')\n",
    "purchase_summary = monthly_purchases.groupby('Month')['Amount'].sum().reset_index()\n",
    "\n",
    "# Monthly unpaid balances (simulating AP ending balances)\n",
    "unpaid_invoices = invoices[invoices['Unpaid']].copy()\n",
    "unpaid_invoices['Month'] = unpaid_invoices['InvoiceDate'].dt.to_period('M')\n",
    "ap_balances = unpaid_invoices.groupby('Month')['Amount'].sum().reset_index().rename(columns={'Amount': 'AP_Balance'})"
   ]
  },
  {
   "cell_type": "code",
   "execution_count": null,
   "id": "88d7f746",
   "metadata": {},
   "outputs": [],
   "source": [
    "# Merge purchases and AP balances\n",
    "apt_df = pd.merge(purchase_summary, ap_balances, on='Month', how='left')\n",
    "apt_df['AP_Balance'] = apt_df['AP_Balance'].fillna(method='ffill')\n",
    "apt_df['Avg_AP'] = apt_df['AP_Balance'].rolling(2).mean()\n",
    "apt_df['APT'] = apt_df['Amount'] / apt_df['Avg_AP']\n",
    "apt_df = apt_df.dropna()\n",
    "apt_df.head()"
   ]
  },
  {
   "cell_type": "code",
   "execution_count": null,
   "id": "50fff46b",
   "metadata": {},
   "outputs": [],
   "source": [
    "# Plot APT trend over time\n",
    "plt.figure(figsize=(10,5))\n",
    "sns.lineplot(data=apt_df, x='Month', y='APT', marker='o', label='Company APT')\n",
    "plt.axhline(3.5, color='red', linestyle='--', label='Industry Avg (Pharma)')\n",
    "plt.title('Accounts Payable Turnover Ratio Over Time')\n",
    "plt.ylabel('APT')\n",
    "plt.xlabel('Month')\n",
    "plt.legend()\n",
    "plt.tight_layout()\n",
    "plt.show()"
   ]
  },
  {
   "cell_type": "markdown",
   "id": "ffad3774",
   "metadata": {},
   "source": [
    "### 📌 Insight:\n",
    "If your company's APT is consistently below the industry average (around 3.5–4.0), it may indicate slower payment cycles, which could affect vendor relationships or reflect credit leverage strategies."
   ]
  }
 ],
 "metadata": {
  "kernelspec": {
   "display_name": "Python 3 (ipykernel)",
   "language": "python",
   "name": "python3"
  },
  "language_info": {
   "codemirror_mode": {
    "name": "ipython",
    "version": 3
   },
   "file_extension": ".py",
   "mimetype": "text/x-python",
   "name": "python",
   "nbconvert_exporter": "python",
   "pygments_lexer": "ipython3",
   "version": "3.11.4"
  }
 },
 "nbformat": 4,
 "nbformat_minor": 5
}
